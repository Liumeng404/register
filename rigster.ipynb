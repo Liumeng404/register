{
 "cells": [
  {
   "cell_type": "code",
   "execution_count": 1,
   "metadata": {
    "collapsed": true
   },
   "outputs": [],
   "source": [
    "import numpy as np\n",
    "import pandas as pd"
   ]
  },
  {
   "cell_type": "code",
   "execution_count": 2,
   "outputs": [],
   "source": [
    "from furl import furl"
   ],
   "metadata": {
    "collapsed": false
   }
  },
  {
   "cell_type": "code",
   "execution_count": 3,
   "outputs": [],
   "source": [
    "reg_df = pd.read_excel('2-13.xlsx')"
   ],
   "metadata": {
    "collapsed": false
   }
  },
  {
   "cell_type": "code",
   "execution_count": 4,
   "outputs": [
    {
     "data": {
      "text/plain": "           ID               用户名   邮箱           手机 手机验证 邮箱验证 身份验证  qq  地区  \\\n0     1346465          feego007  NaN  18033327100  已验证  未验证  未验证 NaN NaN   \n1     1346464  18987110848ph414  NaN  18987110848  已验证  未验证  未验证 NaN NaN   \n2     1346463          4321qwer  NaN  18326172406  已验证  未验证  未验证 NaN NaN   \n3     1346462  13688849103ph150  NaN  13688849103  已验证  未验证  未验证 NaN NaN   \n4     1346461            是我滴大可爱  NaN  18811617836  已验证  未验证  未验证 NaN NaN   \n...       ...               ...  ...          ...  ...  ...  ...  ..  ..   \n4878  1341587      Bamboo_king_  NaN  18930837936  已验证  未验证  未验证 NaN NaN   \n4879  1341586     li18708513597  NaN  18708513597  已验证  未验证  未验证 NaN NaN   \n4880  1341585  18907839864ph967  NaN  18907839864  已验证  未验证  未验证 NaN NaN   \n4881  1341584  18975513213ph513  NaN  18975513213  已验证  未验证  未验证 NaN NaN   \n4882  1341583  15808226559ph328  NaN  15808226559  已验证  未验证  未验证 NaN NaN   \n\n                     注册时间               上次登录时间  \\\n0     2023-02-23 09:47:42  2023-02-23 09:47:42   \n1     2023-02-23 09:47:39                  NaN   \n2     2023-02-23 09:46:55  2023-02-23 09:46:55   \n3     2023-02-23 09:45:01                  NaN   \n4     2023-02-23 09:44:34  2023-02-23 09:44:34   \n...                   ...                  ...   \n4878  2023-02-13 01:29:24  2023-02-13 01:29:25   \n4879  2023-02-13 01:17:56  2023-02-13 01:17:56   \n4880  2023-02-13 00:43:02                  NaN   \n4881  2023-02-13 00:27:39                  NaN   \n4882  2023-02-13 00:12:47                  NaN   \n\n                                                注册来源url  \\\n0       http://www.yaozh.com/register?back_url=instruct   \n1                                                   NaN   \n2                        http://www.yaozh.com/register/   \n3                                                   NaN   \n4     http://www.yaozh.com/register?ga_source=vip&ga...   \n...                                                 ...   \n4878                                                NaN   \n4879                                                NaN   \n4880                                                NaN   \n4881                                                NaN   \n4882                                                NaN   \n\n                                              注册的前一页url  状态  \n0     https://db.yaozh.com/instruct?comprehensivesea...  正常  \n1                                                   NaN  正常  \n2     https://www.yaozh.com/login?ga_source=db&ga_na...  正常  \n3                                                   NaN  正常  \n4                                                   NaN  正常  \n...                                                 ...  ..  \n4878                                                NaN  正常  \n4879                                                NaN  正常  \n4880                                                NaN  正常  \n4881                                                NaN  正常  \n4882                                                NaN  正常  \n\n[4883 rows x 14 columns]",
      "text/html": "<div>\n<style scoped>\n    .dataframe tbody tr th:only-of-type {\n        vertical-align: middle;\n    }\n\n    .dataframe tbody tr th {\n        vertical-align: top;\n    }\n\n    .dataframe thead th {\n        text-align: right;\n    }\n</style>\n<table border=\"1\" class=\"dataframe\">\n  <thead>\n    <tr style=\"text-align: right;\">\n      <th></th>\n      <th>ID</th>\n      <th>用户名</th>\n      <th>邮箱</th>\n      <th>手机</th>\n      <th>手机验证</th>\n      <th>邮箱验证</th>\n      <th>身份验证</th>\n      <th>qq</th>\n      <th>地区</th>\n      <th>注册时间</th>\n      <th>上次登录时间</th>\n      <th>注册来源url</th>\n      <th>注册的前一页url</th>\n      <th>状态</th>\n    </tr>\n  </thead>\n  <tbody>\n    <tr>\n      <th>0</th>\n      <td>1346465</td>\n      <td>feego007</td>\n      <td>NaN</td>\n      <td>18033327100</td>\n      <td>已验证</td>\n      <td>未验证</td>\n      <td>未验证</td>\n      <td>NaN</td>\n      <td>NaN</td>\n      <td>2023-02-23 09:47:42</td>\n      <td>2023-02-23 09:47:42</td>\n      <td>http://www.yaozh.com/register?back_url=instruct</td>\n      <td>https://db.yaozh.com/instruct?comprehensivesea...</td>\n      <td>正常</td>\n    </tr>\n    <tr>\n      <th>1</th>\n      <td>1346464</td>\n      <td>18987110848ph414</td>\n      <td>NaN</td>\n      <td>18987110848</td>\n      <td>已验证</td>\n      <td>未验证</td>\n      <td>未验证</td>\n      <td>NaN</td>\n      <td>NaN</td>\n      <td>2023-02-23 09:47:39</td>\n      <td>NaN</td>\n      <td>NaN</td>\n      <td>NaN</td>\n      <td>正常</td>\n    </tr>\n    <tr>\n      <th>2</th>\n      <td>1346463</td>\n      <td>4321qwer</td>\n      <td>NaN</td>\n      <td>18326172406</td>\n      <td>已验证</td>\n      <td>未验证</td>\n      <td>未验证</td>\n      <td>NaN</td>\n      <td>NaN</td>\n      <td>2023-02-23 09:46:55</td>\n      <td>2023-02-23 09:46:55</td>\n      <td>http://www.yaozh.com/register/</td>\n      <td>https://www.yaozh.com/login?ga_source=db&amp;ga_na...</td>\n      <td>正常</td>\n    </tr>\n    <tr>\n      <th>3</th>\n      <td>1346462</td>\n      <td>13688849103ph150</td>\n      <td>NaN</td>\n      <td>13688849103</td>\n      <td>已验证</td>\n      <td>未验证</td>\n      <td>未验证</td>\n      <td>NaN</td>\n      <td>NaN</td>\n      <td>2023-02-23 09:45:01</td>\n      <td>NaN</td>\n      <td>NaN</td>\n      <td>NaN</td>\n      <td>正常</td>\n    </tr>\n    <tr>\n      <th>4</th>\n      <td>1346461</td>\n      <td>是我滴大可爱</td>\n      <td>NaN</td>\n      <td>18811617836</td>\n      <td>已验证</td>\n      <td>未验证</td>\n      <td>未验证</td>\n      <td>NaN</td>\n      <td>NaN</td>\n      <td>2023-02-23 09:44:34</td>\n      <td>2023-02-23 09:44:34</td>\n      <td>http://www.yaozh.com/register?ga_source=vip&amp;ga...</td>\n      <td>NaN</td>\n      <td>正常</td>\n    </tr>\n    <tr>\n      <th>...</th>\n      <td>...</td>\n      <td>...</td>\n      <td>...</td>\n      <td>...</td>\n      <td>...</td>\n      <td>...</td>\n      <td>...</td>\n      <td>...</td>\n      <td>...</td>\n      <td>...</td>\n      <td>...</td>\n      <td>...</td>\n      <td>...</td>\n      <td>...</td>\n    </tr>\n    <tr>\n      <th>4878</th>\n      <td>1341587</td>\n      <td>Bamboo_king_</td>\n      <td>NaN</td>\n      <td>18930837936</td>\n      <td>已验证</td>\n      <td>未验证</td>\n      <td>未验证</td>\n      <td>NaN</td>\n      <td>NaN</td>\n      <td>2023-02-13 01:29:24</td>\n      <td>2023-02-13 01:29:25</td>\n      <td>NaN</td>\n      <td>NaN</td>\n      <td>正常</td>\n    </tr>\n    <tr>\n      <th>4879</th>\n      <td>1341586</td>\n      <td>li18708513597</td>\n      <td>NaN</td>\n      <td>18708513597</td>\n      <td>已验证</td>\n      <td>未验证</td>\n      <td>未验证</td>\n      <td>NaN</td>\n      <td>NaN</td>\n      <td>2023-02-13 01:17:56</td>\n      <td>2023-02-13 01:17:56</td>\n      <td>NaN</td>\n      <td>NaN</td>\n      <td>正常</td>\n    </tr>\n    <tr>\n      <th>4880</th>\n      <td>1341585</td>\n      <td>18907839864ph967</td>\n      <td>NaN</td>\n      <td>18907839864</td>\n      <td>已验证</td>\n      <td>未验证</td>\n      <td>未验证</td>\n      <td>NaN</td>\n      <td>NaN</td>\n      <td>2023-02-13 00:43:02</td>\n      <td>NaN</td>\n      <td>NaN</td>\n      <td>NaN</td>\n      <td>正常</td>\n    </tr>\n    <tr>\n      <th>4881</th>\n      <td>1341584</td>\n      <td>18975513213ph513</td>\n      <td>NaN</td>\n      <td>18975513213</td>\n      <td>已验证</td>\n      <td>未验证</td>\n      <td>未验证</td>\n      <td>NaN</td>\n      <td>NaN</td>\n      <td>2023-02-13 00:27:39</td>\n      <td>NaN</td>\n      <td>NaN</td>\n      <td>NaN</td>\n      <td>正常</td>\n    </tr>\n    <tr>\n      <th>4882</th>\n      <td>1341583</td>\n      <td>15808226559ph328</td>\n      <td>NaN</td>\n      <td>15808226559</td>\n      <td>已验证</td>\n      <td>未验证</td>\n      <td>未验证</td>\n      <td>NaN</td>\n      <td>NaN</td>\n      <td>2023-02-13 00:12:47</td>\n      <td>NaN</td>\n      <td>NaN</td>\n      <td>NaN</td>\n      <td>正常</td>\n    </tr>\n  </tbody>\n</table>\n<p>4883 rows × 14 columns</p>\n</div>"
     },
     "execution_count": 4,
     "metadata": {},
     "output_type": "execute_result"
    }
   ],
   "source": [
    "reg_df"
   ],
   "metadata": {
    "collapsed": false
   }
  },
  {
   "cell_type": "code",
   "execution_count": 5,
   "outputs": [
    {
     "data": {
      "text/plain": "ID             int64\n用户名           object\n邮箱            object\n手机            object\n手机验证          object\n邮箱验证          object\n身份验证          object\nqq           float64\n地区           float64\n注册时间          object\n上次登录时间        object\n注册来源url       object\n注册的前一页url     object\n状态            object\ndtype: object"
     },
     "execution_count": 5,
     "metadata": {},
     "output_type": "execute_result"
    }
   ],
   "source": [
    "reg_df.dtypes"
   ],
   "metadata": {
    "collapsed": false
   }
  },
  {
   "cell_type": "code",
   "execution_count": 6,
   "outputs": [],
   "source": [
    "reg_df['注册时间'] = pd.to_datetime(reg_df['注册时间'])"
   ],
   "metadata": {
    "collapsed": false
   }
  },
  {
   "cell_type": "code",
   "execution_count": 7,
   "outputs": [
    {
     "data": {
      "text/plain": "ID                    int64\n用户名                  object\n邮箱                   object\n手机                   object\n手机验证                 object\n邮箱验证                 object\n身份验证                 object\nqq                  float64\n地区                  float64\n注册时间         datetime64[ns]\n上次登录时间               object\n注册来源url              object\n注册的前一页url            object\n状态                   object\ndtype: object"
     },
     "execution_count": 7,
     "metadata": {},
     "output_type": "execute_result"
    }
   ],
   "source": [
    "reg_df.dtypes"
   ],
   "metadata": {
    "collapsed": false
   }
  },
  {
   "cell_type": "code",
   "execution_count": 8,
   "outputs": [],
   "source": [
    "reg_df['月'] = reg_df['注册时间'].dt.month"
   ],
   "metadata": {
    "collapsed": false
   }
  },
  {
   "cell_type": "code",
   "execution_count": 104,
   "outputs": [
    {
     "data": {
      "text/plain": "0       3\n1       3\n2       3\n3       3\n4       3\n       ..\n4878    0\n4879    0\n4880    0\n4881    0\n4882    0\nName: 注册时间, Length: 4883, dtype: int64"
     },
     "execution_count": 104,
     "metadata": {},
     "output_type": "execute_result"
    }
   ],
   "source": [
    "reg_df['注册时间'].dt.weekday"
   ],
   "metadata": {
    "collapsed": false
   }
  },
  {
   "cell_type": "code",
   "execution_count": 103,
   "outputs": [
    {
     "data": {
      "text/plain": "           ID               用户名   邮箱           手机 手机验证 邮箱验证 身份验证  qq  地区  \\\n0     1346465          feego007  NaN  18033327100  已验证  未验证  未验证 NaN NaN   \n1     1346464  18987110848ph414  NaN  18987110848  已验证  未验证  未验证 NaN NaN   \n2     1346463          4321qwer  NaN  18326172406  已验证  未验证  未验证 NaN NaN   \n3     1346462  13688849103ph150  NaN  13688849103  已验证  未验证  未验证 NaN NaN   \n4     1346461            是我滴大可爱  NaN  18811617836  已验证  未验证  未验证 NaN NaN   \n...       ...               ...  ...          ...  ...  ...  ...  ..  ..   \n4878  1341587      Bamboo_king_  NaN  18930837936  已验证  未验证  未验证 NaN NaN   \n4879  1341586     li18708513597  NaN  18708513597  已验证  未验证  未验证 NaN NaN   \n4880  1341585  18907839864ph967  NaN  18907839864  已验证  未验证  未验证 NaN NaN   \n4881  1341584  18975513213ph513  NaN  18975513213  已验证  未验证  未验证 NaN NaN   \n4882  1341583  15808226559ph328  NaN  15808226559  已验证  未验证  未验证 NaN NaN   \n\n                    注册时间  ...  \\\n0    2023-02-23 09:47:42  ...   \n1    2023-02-23 09:47:39  ...   \n2    2023-02-23 09:46:55  ...   \n3    2023-02-23 09:45:01  ...   \n4    2023-02-23 09:44:34  ...   \n...                  ...  ...   \n4878 2023-02-13 01:29:24  ...   \n4879 2023-02-13 01:17:56  ...   \n4880 2023-02-13 00:43:02  ...   \n4881 2023-02-13 00:27:39  ...   \n4882 2023-02-13 00:12:47  ...   \n\n                                                注册来源url  \\\n0       http://www.yaozh.com/register?back_url=instruct   \n1                                                   NaN   \n2                        http://www.yaozh.com/register/   \n3                                                   NaN   \n4     http://www.yaozh.com/register?ga_source=vip&ga...   \n...                                                 ...   \n4878                                                NaN   \n4879                                                NaN   \n4880                                                NaN   \n4881                                                NaN   \n4882                                                NaN   \n\n                                              注册的前一页url  状态  月    端  firt_dir  \\\n0     https://db.yaozh.com/instruct?comprehensivesea...  正常  2   PC  register   \n1                                                   NaN  正常  2  app       NaN   \n2     https://www.yaozh.com/login?ga_source=db&ga_na...  正常  2   PC  register   \n3                                                   NaN  正常  2  app       NaN   \n4                                                   NaN  正常  2   PC  register   \n...                                                 ...  .. ..  ...       ...   \n4878                                                NaN  正常  2  app       NaN   \n4879                                                NaN  正常  2  app       NaN   \n4880                                                NaN  正常  2  app       NaN   \n4881                                                NaN  正常  2  app       NaN   \n4882                                                NaN  正常  2  app       NaN   \n\n             注册来源url_source 注册来源_first_dir 注册的前一页url_first_dir real_source_dir  \n0     https://bbs.yaozh.cn/       instruct                   /        instruct  \n1                       NaN            app                 app             app  \n2     https://bbs.yaozh.cn/              /            turnpage        turnpage  \n3                       NaN            app                 app             app  \n4     https://bbs.yaozh.cn/            vip                 app             vip  \n...                     ...            ...                 ...             ...  \n4878                    NaN            app                 app             app  \n4879                    NaN            app                 app             app  \n4880                    NaN            app                 app             app  \n4881                    NaN            app                 app             app  \n4882                    NaN            app                 app             app  \n\n[4883 rows x 21 columns]",
      "text/html": "<div>\n<style scoped>\n    .dataframe tbody tr th:only-of-type {\n        vertical-align: middle;\n    }\n\n    .dataframe tbody tr th {\n        vertical-align: top;\n    }\n\n    .dataframe thead th {\n        text-align: right;\n    }\n</style>\n<table border=\"1\" class=\"dataframe\">\n  <thead>\n    <tr style=\"text-align: right;\">\n      <th></th>\n      <th>ID</th>\n      <th>用户名</th>\n      <th>邮箱</th>\n      <th>手机</th>\n      <th>手机验证</th>\n      <th>邮箱验证</th>\n      <th>身份验证</th>\n      <th>qq</th>\n      <th>地区</th>\n      <th>注册时间</th>\n      <th>...</th>\n      <th>注册来源url</th>\n      <th>注册的前一页url</th>\n      <th>状态</th>\n      <th>月</th>\n      <th>端</th>\n      <th>firt_dir</th>\n      <th>注册来源url_source</th>\n      <th>注册来源_first_dir</th>\n      <th>注册的前一页url_first_dir</th>\n      <th>real_source_dir</th>\n    </tr>\n  </thead>\n  <tbody>\n    <tr>\n      <th>0</th>\n      <td>1346465</td>\n      <td>feego007</td>\n      <td>NaN</td>\n      <td>18033327100</td>\n      <td>已验证</td>\n      <td>未验证</td>\n      <td>未验证</td>\n      <td>NaN</td>\n      <td>NaN</td>\n      <td>2023-02-23 09:47:42</td>\n      <td>...</td>\n      <td>http://www.yaozh.com/register?back_url=instruct</td>\n      <td>https://db.yaozh.com/instruct?comprehensivesea...</td>\n      <td>正常</td>\n      <td>2</td>\n      <td>PC</td>\n      <td>register</td>\n      <td>https://bbs.yaozh.cn/</td>\n      <td>instruct</td>\n      <td>/</td>\n      <td>instruct</td>\n    </tr>\n    <tr>\n      <th>1</th>\n      <td>1346464</td>\n      <td>18987110848ph414</td>\n      <td>NaN</td>\n      <td>18987110848</td>\n      <td>已验证</td>\n      <td>未验证</td>\n      <td>未验证</td>\n      <td>NaN</td>\n      <td>NaN</td>\n      <td>2023-02-23 09:47:39</td>\n      <td>...</td>\n      <td>NaN</td>\n      <td>NaN</td>\n      <td>正常</td>\n      <td>2</td>\n      <td>app</td>\n      <td>NaN</td>\n      <td>NaN</td>\n      <td>app</td>\n      <td>app</td>\n      <td>app</td>\n    </tr>\n    <tr>\n      <th>2</th>\n      <td>1346463</td>\n      <td>4321qwer</td>\n      <td>NaN</td>\n      <td>18326172406</td>\n      <td>已验证</td>\n      <td>未验证</td>\n      <td>未验证</td>\n      <td>NaN</td>\n      <td>NaN</td>\n      <td>2023-02-23 09:46:55</td>\n      <td>...</td>\n      <td>http://www.yaozh.com/register/</td>\n      <td>https://www.yaozh.com/login?ga_source=db&amp;ga_na...</td>\n      <td>正常</td>\n      <td>2</td>\n      <td>PC</td>\n      <td>register</td>\n      <td>https://bbs.yaozh.cn/</td>\n      <td>/</td>\n      <td>turnpage</td>\n      <td>turnpage</td>\n    </tr>\n    <tr>\n      <th>3</th>\n      <td>1346462</td>\n      <td>13688849103ph150</td>\n      <td>NaN</td>\n      <td>13688849103</td>\n      <td>已验证</td>\n      <td>未验证</td>\n      <td>未验证</td>\n      <td>NaN</td>\n      <td>NaN</td>\n      <td>2023-02-23 09:45:01</td>\n      <td>...</td>\n      <td>NaN</td>\n      <td>NaN</td>\n      <td>正常</td>\n      <td>2</td>\n      <td>app</td>\n      <td>NaN</td>\n      <td>NaN</td>\n      <td>app</td>\n      <td>app</td>\n      <td>app</td>\n    </tr>\n    <tr>\n      <th>4</th>\n      <td>1346461</td>\n      <td>是我滴大可爱</td>\n      <td>NaN</td>\n      <td>18811617836</td>\n      <td>已验证</td>\n      <td>未验证</td>\n      <td>未验证</td>\n      <td>NaN</td>\n      <td>NaN</td>\n      <td>2023-02-23 09:44:34</td>\n      <td>...</td>\n      <td>http://www.yaozh.com/register?ga_source=vip&amp;ga...</td>\n      <td>NaN</td>\n      <td>正常</td>\n      <td>2</td>\n      <td>PC</td>\n      <td>register</td>\n      <td>https://bbs.yaozh.cn/</td>\n      <td>vip</td>\n      <td>app</td>\n      <td>vip</td>\n    </tr>\n    <tr>\n      <th>...</th>\n      <td>...</td>\n      <td>...</td>\n      <td>...</td>\n      <td>...</td>\n      <td>...</td>\n      <td>...</td>\n      <td>...</td>\n      <td>...</td>\n      <td>...</td>\n      <td>...</td>\n      <td>...</td>\n      <td>...</td>\n      <td>...</td>\n      <td>...</td>\n      <td>...</td>\n      <td>...</td>\n      <td>...</td>\n      <td>...</td>\n      <td>...</td>\n      <td>...</td>\n      <td>...</td>\n    </tr>\n    <tr>\n      <th>4878</th>\n      <td>1341587</td>\n      <td>Bamboo_king_</td>\n      <td>NaN</td>\n      <td>18930837936</td>\n      <td>已验证</td>\n      <td>未验证</td>\n      <td>未验证</td>\n      <td>NaN</td>\n      <td>NaN</td>\n      <td>2023-02-13 01:29:24</td>\n      <td>...</td>\n      <td>NaN</td>\n      <td>NaN</td>\n      <td>正常</td>\n      <td>2</td>\n      <td>app</td>\n      <td>NaN</td>\n      <td>NaN</td>\n      <td>app</td>\n      <td>app</td>\n      <td>app</td>\n    </tr>\n    <tr>\n      <th>4879</th>\n      <td>1341586</td>\n      <td>li18708513597</td>\n      <td>NaN</td>\n      <td>18708513597</td>\n      <td>已验证</td>\n      <td>未验证</td>\n      <td>未验证</td>\n      <td>NaN</td>\n      <td>NaN</td>\n      <td>2023-02-13 01:17:56</td>\n      <td>...</td>\n      <td>NaN</td>\n      <td>NaN</td>\n      <td>正常</td>\n      <td>2</td>\n      <td>app</td>\n      <td>NaN</td>\n      <td>NaN</td>\n      <td>app</td>\n      <td>app</td>\n      <td>app</td>\n    </tr>\n    <tr>\n      <th>4880</th>\n      <td>1341585</td>\n      <td>18907839864ph967</td>\n      <td>NaN</td>\n      <td>18907839864</td>\n      <td>已验证</td>\n      <td>未验证</td>\n      <td>未验证</td>\n      <td>NaN</td>\n      <td>NaN</td>\n      <td>2023-02-13 00:43:02</td>\n      <td>...</td>\n      <td>NaN</td>\n      <td>NaN</td>\n      <td>正常</td>\n      <td>2</td>\n      <td>app</td>\n      <td>NaN</td>\n      <td>NaN</td>\n      <td>app</td>\n      <td>app</td>\n      <td>app</td>\n    </tr>\n    <tr>\n      <th>4881</th>\n      <td>1341584</td>\n      <td>18975513213ph513</td>\n      <td>NaN</td>\n      <td>18975513213</td>\n      <td>已验证</td>\n      <td>未验证</td>\n      <td>未验证</td>\n      <td>NaN</td>\n      <td>NaN</td>\n      <td>2023-02-13 00:27:39</td>\n      <td>...</td>\n      <td>NaN</td>\n      <td>NaN</td>\n      <td>正常</td>\n      <td>2</td>\n      <td>app</td>\n      <td>NaN</td>\n      <td>NaN</td>\n      <td>app</td>\n      <td>app</td>\n      <td>app</td>\n    </tr>\n    <tr>\n      <th>4882</th>\n      <td>1341583</td>\n      <td>15808226559ph328</td>\n      <td>NaN</td>\n      <td>15808226559</td>\n      <td>已验证</td>\n      <td>未验证</td>\n      <td>未验证</td>\n      <td>NaN</td>\n      <td>NaN</td>\n      <td>2023-02-13 00:12:47</td>\n      <td>...</td>\n      <td>NaN</td>\n      <td>NaN</td>\n      <td>正常</td>\n      <td>2</td>\n      <td>app</td>\n      <td>NaN</td>\n      <td>NaN</td>\n      <td>app</td>\n      <td>app</td>\n      <td>app</td>\n    </tr>\n  </tbody>\n</table>\n<p>4883 rows × 21 columns</p>\n</div>"
     },
     "execution_count": 103,
     "metadata": {},
     "output_type": "execute_result"
    }
   ],
   "source": [
    "reg_df"
   ],
   "metadata": {
    "collapsed": false
   }
  },
  {
   "cell_type": "code",
   "execution_count": 10,
   "outputs": [],
   "source": [
    "def what_port(row):\n",
    "    if pd.isna(row['注册来源url']) and pd.isna(row['注册的前一页url']):\n",
    "        return 'app'\n",
    "    else:\n",
    "        return 'PC'"
   ],
   "metadata": {
    "collapsed": false
   }
  },
  {
   "cell_type": "code",
   "execution_count": 12,
   "outputs": [],
   "source": [
    "reg_df['端'] = reg_df.apply(what_port,axis=1)"
   ],
   "metadata": {
    "collapsed": false
   }
  },
  {
   "cell_type": "code",
   "execution_count": 13,
   "outputs": [
    {
     "data": {
      "text/plain": "           ID               用户名   邮箱           手机 手机验证 邮箱验证 身份验证  qq  地区  \\\n0     1346465          feego007  NaN  18033327100  已验证  未验证  未验证 NaN NaN   \n1     1346464  18987110848ph414  NaN  18987110848  已验证  未验证  未验证 NaN NaN   \n2     1346463          4321qwer  NaN  18326172406  已验证  未验证  未验证 NaN NaN   \n3     1346462  13688849103ph150  NaN  13688849103  已验证  未验证  未验证 NaN NaN   \n4     1346461            是我滴大可爱  NaN  18811617836  已验证  未验证  未验证 NaN NaN   \n...       ...               ...  ...          ...  ...  ...  ...  ..  ..   \n4878  1341587      Bamboo_king_  NaN  18930837936  已验证  未验证  未验证 NaN NaN   \n4879  1341586     li18708513597  NaN  18708513597  已验证  未验证  未验证 NaN NaN   \n4880  1341585  18907839864ph967  NaN  18907839864  已验证  未验证  未验证 NaN NaN   \n4881  1341584  18975513213ph513  NaN  18975513213  已验证  未验证  未验证 NaN NaN   \n4882  1341583  15808226559ph328  NaN  15808226559  已验证  未验证  未验证 NaN NaN   \n\n                    注册时间               上次登录时间  \\\n0    2023-02-23 09:47:42  2023-02-23 09:47:42   \n1    2023-02-23 09:47:39                  NaN   \n2    2023-02-23 09:46:55  2023-02-23 09:46:55   \n3    2023-02-23 09:45:01                  NaN   \n4    2023-02-23 09:44:34  2023-02-23 09:44:34   \n...                  ...                  ...   \n4878 2023-02-13 01:29:24  2023-02-13 01:29:25   \n4879 2023-02-13 01:17:56  2023-02-13 01:17:56   \n4880 2023-02-13 00:43:02                  NaN   \n4881 2023-02-13 00:27:39                  NaN   \n4882 2023-02-13 00:12:47                  NaN   \n\n                                                注册来源url  \\\n0       http://www.yaozh.com/register?back_url=instruct   \n1                                                   NaN   \n2                        http://www.yaozh.com/register/   \n3                                                   NaN   \n4     http://www.yaozh.com/register?ga_source=vip&ga...   \n...                                                 ...   \n4878                                                NaN   \n4879                                                NaN   \n4880                                                NaN   \n4881                                                NaN   \n4882                                                NaN   \n\n                                              注册的前一页url  状态  月    端  \n0     https://db.yaozh.com/instruct?comprehensivesea...  正常  2   PC  \n1                                                   NaN  正常  2  app  \n2     https://www.yaozh.com/login?ga_source=db&ga_na...  正常  2   PC  \n3                                                   NaN  正常  2  app  \n4                                                   NaN  正常  2   PC  \n...                                                 ...  .. ..  ...  \n4878                                                NaN  正常  2  app  \n4879                                                NaN  正常  2  app  \n4880                                                NaN  正常  2  app  \n4881                                                NaN  正常  2  app  \n4882                                                NaN  正常  2  app  \n\n[4883 rows x 16 columns]",
      "text/html": "<div>\n<style scoped>\n    .dataframe tbody tr th:only-of-type {\n        vertical-align: middle;\n    }\n\n    .dataframe tbody tr th {\n        vertical-align: top;\n    }\n\n    .dataframe thead th {\n        text-align: right;\n    }\n</style>\n<table border=\"1\" class=\"dataframe\">\n  <thead>\n    <tr style=\"text-align: right;\">\n      <th></th>\n      <th>ID</th>\n      <th>用户名</th>\n      <th>邮箱</th>\n      <th>手机</th>\n      <th>手机验证</th>\n      <th>邮箱验证</th>\n      <th>身份验证</th>\n      <th>qq</th>\n      <th>地区</th>\n      <th>注册时间</th>\n      <th>上次登录时间</th>\n      <th>注册来源url</th>\n      <th>注册的前一页url</th>\n      <th>状态</th>\n      <th>月</th>\n      <th>端</th>\n    </tr>\n  </thead>\n  <tbody>\n    <tr>\n      <th>0</th>\n      <td>1346465</td>\n      <td>feego007</td>\n      <td>NaN</td>\n      <td>18033327100</td>\n      <td>已验证</td>\n      <td>未验证</td>\n      <td>未验证</td>\n      <td>NaN</td>\n      <td>NaN</td>\n      <td>2023-02-23 09:47:42</td>\n      <td>2023-02-23 09:47:42</td>\n      <td>http://www.yaozh.com/register?back_url=instruct</td>\n      <td>https://db.yaozh.com/instruct?comprehensivesea...</td>\n      <td>正常</td>\n      <td>2</td>\n      <td>PC</td>\n    </tr>\n    <tr>\n      <th>1</th>\n      <td>1346464</td>\n      <td>18987110848ph414</td>\n      <td>NaN</td>\n      <td>18987110848</td>\n      <td>已验证</td>\n      <td>未验证</td>\n      <td>未验证</td>\n      <td>NaN</td>\n      <td>NaN</td>\n      <td>2023-02-23 09:47:39</td>\n      <td>NaN</td>\n      <td>NaN</td>\n      <td>NaN</td>\n      <td>正常</td>\n      <td>2</td>\n      <td>app</td>\n    </tr>\n    <tr>\n      <th>2</th>\n      <td>1346463</td>\n      <td>4321qwer</td>\n      <td>NaN</td>\n      <td>18326172406</td>\n      <td>已验证</td>\n      <td>未验证</td>\n      <td>未验证</td>\n      <td>NaN</td>\n      <td>NaN</td>\n      <td>2023-02-23 09:46:55</td>\n      <td>2023-02-23 09:46:55</td>\n      <td>http://www.yaozh.com/register/</td>\n      <td>https://www.yaozh.com/login?ga_source=db&amp;ga_na...</td>\n      <td>正常</td>\n      <td>2</td>\n      <td>PC</td>\n    </tr>\n    <tr>\n      <th>3</th>\n      <td>1346462</td>\n      <td>13688849103ph150</td>\n      <td>NaN</td>\n      <td>13688849103</td>\n      <td>已验证</td>\n      <td>未验证</td>\n      <td>未验证</td>\n      <td>NaN</td>\n      <td>NaN</td>\n      <td>2023-02-23 09:45:01</td>\n      <td>NaN</td>\n      <td>NaN</td>\n      <td>NaN</td>\n      <td>正常</td>\n      <td>2</td>\n      <td>app</td>\n    </tr>\n    <tr>\n      <th>4</th>\n      <td>1346461</td>\n      <td>是我滴大可爱</td>\n      <td>NaN</td>\n      <td>18811617836</td>\n      <td>已验证</td>\n      <td>未验证</td>\n      <td>未验证</td>\n      <td>NaN</td>\n      <td>NaN</td>\n      <td>2023-02-23 09:44:34</td>\n      <td>2023-02-23 09:44:34</td>\n      <td>http://www.yaozh.com/register?ga_source=vip&amp;ga...</td>\n      <td>NaN</td>\n      <td>正常</td>\n      <td>2</td>\n      <td>PC</td>\n    </tr>\n    <tr>\n      <th>...</th>\n      <td>...</td>\n      <td>...</td>\n      <td>...</td>\n      <td>...</td>\n      <td>...</td>\n      <td>...</td>\n      <td>...</td>\n      <td>...</td>\n      <td>...</td>\n      <td>...</td>\n      <td>...</td>\n      <td>...</td>\n      <td>...</td>\n      <td>...</td>\n      <td>...</td>\n      <td>...</td>\n    </tr>\n    <tr>\n      <th>4878</th>\n      <td>1341587</td>\n      <td>Bamboo_king_</td>\n      <td>NaN</td>\n      <td>18930837936</td>\n      <td>已验证</td>\n      <td>未验证</td>\n      <td>未验证</td>\n      <td>NaN</td>\n      <td>NaN</td>\n      <td>2023-02-13 01:29:24</td>\n      <td>2023-02-13 01:29:25</td>\n      <td>NaN</td>\n      <td>NaN</td>\n      <td>正常</td>\n      <td>2</td>\n      <td>app</td>\n    </tr>\n    <tr>\n      <th>4879</th>\n      <td>1341586</td>\n      <td>li18708513597</td>\n      <td>NaN</td>\n      <td>18708513597</td>\n      <td>已验证</td>\n      <td>未验证</td>\n      <td>未验证</td>\n      <td>NaN</td>\n      <td>NaN</td>\n      <td>2023-02-13 01:17:56</td>\n      <td>2023-02-13 01:17:56</td>\n      <td>NaN</td>\n      <td>NaN</td>\n      <td>正常</td>\n      <td>2</td>\n      <td>app</td>\n    </tr>\n    <tr>\n      <th>4880</th>\n      <td>1341585</td>\n      <td>18907839864ph967</td>\n      <td>NaN</td>\n      <td>18907839864</td>\n      <td>已验证</td>\n      <td>未验证</td>\n      <td>未验证</td>\n      <td>NaN</td>\n      <td>NaN</td>\n      <td>2023-02-13 00:43:02</td>\n      <td>NaN</td>\n      <td>NaN</td>\n      <td>NaN</td>\n      <td>正常</td>\n      <td>2</td>\n      <td>app</td>\n    </tr>\n    <tr>\n      <th>4881</th>\n      <td>1341584</td>\n      <td>18975513213ph513</td>\n      <td>NaN</td>\n      <td>18975513213</td>\n      <td>已验证</td>\n      <td>未验证</td>\n      <td>未验证</td>\n      <td>NaN</td>\n      <td>NaN</td>\n      <td>2023-02-13 00:27:39</td>\n      <td>NaN</td>\n      <td>NaN</td>\n      <td>NaN</td>\n      <td>正常</td>\n      <td>2</td>\n      <td>app</td>\n    </tr>\n    <tr>\n      <th>4882</th>\n      <td>1341583</td>\n      <td>15808226559ph328</td>\n      <td>NaN</td>\n      <td>15808226559</td>\n      <td>已验证</td>\n      <td>未验证</td>\n      <td>未验证</td>\n      <td>NaN</td>\n      <td>NaN</td>\n      <td>2023-02-13 00:12:47</td>\n      <td>NaN</td>\n      <td>NaN</td>\n      <td>NaN</td>\n      <td>正常</td>\n      <td>2</td>\n      <td>app</td>\n    </tr>\n  </tbody>\n</table>\n<p>4883 rows × 16 columns</p>\n</div>"
     },
     "execution_count": 13,
     "metadata": {},
     "output_type": "execute_result"
    }
   ],
   "source": [
    "reg_df"
   ],
   "metadata": {
    "collapsed": false
   }
  },
  {
   "cell_type": "code",
   "execution_count": 31,
   "outputs": [],
   "source": [
    "port_ana = reg_df[['月','端']].groupby('月').value_counts()"
   ],
   "metadata": {
    "collapsed": false
   }
  },
  {
   "cell_type": "code",
   "execution_count": 32,
   "outputs": [
    {
     "data": {
      "text/plain": "月  端  \n2  app    2447\n   PC     2436\ndtype: int64"
     },
     "execution_count": 32,
     "metadata": {},
     "output_type": "execute_result"
    }
   ],
   "source": [
    "port_ana"
   ],
   "metadata": {
    "collapsed": false
   }
  },
  {
   "cell_type": "code",
   "execution_count": 87,
   "outputs": [],
   "source": [
    "def no_name(url):\n",
    "    f_obj = furl(url)\n",
    "    if f_obj.host == 'db.yaozh.com':\n",
    "        return f_obj.path.segments[0]\n",
    "    return f_obj.host"
   ],
   "metadata": {
    "collapsed": false
   }
  },
  {
   "cell_type": "code",
   "execution_count": 95,
   "outputs": [],
   "source": [
    "def get_par(url):\n",
    "    if url is np.NaN:\n",
    "        return 'app'\n",
    "\n",
    "    url_params_dict =  furl(url).query.params\n",
    "    source = url_params_dict.get('ga_name',url_params_dict.get('backurl', url_params_dict.get('back_url', url_params_dict.get('ga_source','/'))))\n",
    "    if source is not None and \"http\" in source:\n",
    "        return no_name(source)\n",
    "    else:\n",
    "        return source"
   ],
   "metadata": {
    "collapsed": false
   }
  },
  {
   "cell_type": "code",
   "execution_count": 89,
   "outputs": [],
   "source": [
    "def real_source(row):\n",
    "    if row['注册来源_first_dir'] != 'app':\n",
    "        if row['注册来源_first_dir'] == '/' and row['注册的前一页url_first_dir'] == '/':\n",
    "            return '/'\n",
    "        elif row['注册来源_first_dir'] != '/' and row['注册的前一页url_first_dir'] == '/':\n",
    "            return row['注册来源_first_dir']\n",
    "        elif row['注册来源_first_dir'] == '/' and row['注册的前一页url_first_dir'] != '/':\n",
    "            return row['注册的前一页url_first_dir']\n",
    "        else:\n",
    "            return row['注册来源_first_dir']\n",
    "    return 'app'"
   ],
   "metadata": {
    "collapsed": false
   }
  },
  {
   "cell_type": "code",
   "execution_count": 72,
   "outputs": [],
   "source": [
    "import numpy as np"
   ],
   "metadata": {
    "collapsed": false
   }
  },
  {
   "cell_type": "code",
   "execution_count": 96,
   "outputs": [],
   "source": [
    "reg_df['注册来源_first_dir'] = reg_df['注册来源url'].apply(get_par)"
   ],
   "metadata": {
    "collapsed": false
   }
  },
  {
   "cell_type": "code",
   "execution_count": 97,
   "outputs": [],
   "source": [
    "reg_df['注册的前一页url_first_dir'] = reg_df['注册的前一页url'].apply(get_par)"
   ],
   "metadata": {
    "collapsed": false
   }
  },
  {
   "cell_type": "code",
   "execution_count": 98,
   "outputs": [
    {
     "data": {
      "text/plain": "                                                注册来源url 注册来源_first_dir  \\\n0       http://www.yaozh.com/register?back_url=instruct       instruct   \n1                                                   NaN            app   \n2                        http://www.yaozh.com/register/              /   \n3                                                   NaN            app   \n4     http://www.yaozh.com/register?ga_source=vip&ga...            vip   \n...                                                 ...            ...   \n4878                                                NaN            app   \n4879                                                NaN            app   \n4880                                                NaN            app   \n4881                                                NaN            app   \n4882                                                NaN            app   \n\n                                              注册的前一页url 注册的前一页url_first_dir  \n0     https://db.yaozh.com/instruct?comprehensivesea...                   /  \n1                                                   NaN                 app  \n2     https://www.yaozh.com/login?ga_source=db&ga_na...            turnpage  \n3                                                   NaN                 app  \n4                                                   NaN                 app  \n...                                                 ...                 ...  \n4878                                                NaN                 app  \n4879                                                NaN                 app  \n4880                                                NaN                 app  \n4881                                                NaN                 app  \n4882                                                NaN                 app  \n\n[4883 rows x 4 columns]",
      "text/html": "<div>\n<style scoped>\n    .dataframe tbody tr th:only-of-type {\n        vertical-align: middle;\n    }\n\n    .dataframe tbody tr th {\n        vertical-align: top;\n    }\n\n    .dataframe thead th {\n        text-align: right;\n    }\n</style>\n<table border=\"1\" class=\"dataframe\">\n  <thead>\n    <tr style=\"text-align: right;\">\n      <th></th>\n      <th>注册来源url</th>\n      <th>注册来源_first_dir</th>\n      <th>注册的前一页url</th>\n      <th>注册的前一页url_first_dir</th>\n    </tr>\n  </thead>\n  <tbody>\n    <tr>\n      <th>0</th>\n      <td>http://www.yaozh.com/register?back_url=instruct</td>\n      <td>instruct</td>\n      <td>https://db.yaozh.com/instruct?comprehensivesea...</td>\n      <td>/</td>\n    </tr>\n    <tr>\n      <th>1</th>\n      <td>NaN</td>\n      <td>app</td>\n      <td>NaN</td>\n      <td>app</td>\n    </tr>\n    <tr>\n      <th>2</th>\n      <td>http://www.yaozh.com/register/</td>\n      <td>/</td>\n      <td>https://www.yaozh.com/login?ga_source=db&amp;ga_na...</td>\n      <td>turnpage</td>\n    </tr>\n    <tr>\n      <th>3</th>\n      <td>NaN</td>\n      <td>app</td>\n      <td>NaN</td>\n      <td>app</td>\n    </tr>\n    <tr>\n      <th>4</th>\n      <td>http://www.yaozh.com/register?ga_source=vip&amp;ga...</td>\n      <td>vip</td>\n      <td>NaN</td>\n      <td>app</td>\n    </tr>\n    <tr>\n      <th>...</th>\n      <td>...</td>\n      <td>...</td>\n      <td>...</td>\n      <td>...</td>\n    </tr>\n    <tr>\n      <th>4878</th>\n      <td>NaN</td>\n      <td>app</td>\n      <td>NaN</td>\n      <td>app</td>\n    </tr>\n    <tr>\n      <th>4879</th>\n      <td>NaN</td>\n      <td>app</td>\n      <td>NaN</td>\n      <td>app</td>\n    </tr>\n    <tr>\n      <th>4880</th>\n      <td>NaN</td>\n      <td>app</td>\n      <td>NaN</td>\n      <td>app</td>\n    </tr>\n    <tr>\n      <th>4881</th>\n      <td>NaN</td>\n      <td>app</td>\n      <td>NaN</td>\n      <td>app</td>\n    </tr>\n    <tr>\n      <th>4882</th>\n      <td>NaN</td>\n      <td>app</td>\n      <td>NaN</td>\n      <td>app</td>\n    </tr>\n  </tbody>\n</table>\n<p>4883 rows × 4 columns</p>\n</div>"
     },
     "execution_count": 98,
     "metadata": {},
     "output_type": "execute_result"
    }
   ],
   "source": [
    "reg_df[['注册来源url','注册来源_first_dir','注册的前一页url','注册的前一页url_first_dir']]"
   ],
   "metadata": {
    "collapsed": false
   }
  },
  {
   "cell_type": "code",
   "execution_count": 99,
   "outputs": [],
   "source": [
    "reg_df['real_source_dir'] = reg_df.apply(real_source, axis=1)"
   ],
   "metadata": {
    "collapsed": false
   }
  },
  {
   "cell_type": "code",
   "execution_count": 100,
   "outputs": [
    {
     "data": {
      "text/plain": "           ID               用户名   邮箱           手机 手机验证 邮箱验证 身份验证  qq  地区  \\\n0     1346465          feego007  NaN  18033327100  已验证  未验证  未验证 NaN NaN   \n1     1346464  18987110848ph414  NaN  18987110848  已验证  未验证  未验证 NaN NaN   \n2     1346463          4321qwer  NaN  18326172406  已验证  未验证  未验证 NaN NaN   \n3     1346462  13688849103ph150  NaN  13688849103  已验证  未验证  未验证 NaN NaN   \n4     1346461            是我滴大可爱  NaN  18811617836  已验证  未验证  未验证 NaN NaN   \n...       ...               ...  ...          ...  ...  ...  ...  ..  ..   \n4878  1341587      Bamboo_king_  NaN  18930837936  已验证  未验证  未验证 NaN NaN   \n4879  1341586     li18708513597  NaN  18708513597  已验证  未验证  未验证 NaN NaN   \n4880  1341585  18907839864ph967  NaN  18907839864  已验证  未验证  未验证 NaN NaN   \n4881  1341584  18975513213ph513  NaN  18975513213  已验证  未验证  未验证 NaN NaN   \n4882  1341583  15808226559ph328  NaN  15808226559  已验证  未验证  未验证 NaN NaN   \n\n                    注册时间  ...  \\\n0    2023-02-23 09:47:42  ...   \n1    2023-02-23 09:47:39  ...   \n2    2023-02-23 09:46:55  ...   \n3    2023-02-23 09:45:01  ...   \n4    2023-02-23 09:44:34  ...   \n...                  ...  ...   \n4878 2023-02-13 01:29:24  ...   \n4879 2023-02-13 01:17:56  ...   \n4880 2023-02-13 00:43:02  ...   \n4881 2023-02-13 00:27:39  ...   \n4882 2023-02-13 00:12:47  ...   \n\n                                                注册来源url  \\\n0       http://www.yaozh.com/register?back_url=instruct   \n1                                                   NaN   \n2                        http://www.yaozh.com/register/   \n3                                                   NaN   \n4     http://www.yaozh.com/register?ga_source=vip&ga...   \n...                                                 ...   \n4878                                                NaN   \n4879                                                NaN   \n4880                                                NaN   \n4881                                                NaN   \n4882                                                NaN   \n\n                                              注册的前一页url  状态  月    端  firt_dir  \\\n0     https://db.yaozh.com/instruct?comprehensivesea...  正常  2   PC  register   \n1                                                   NaN  正常  2  app       NaN   \n2     https://www.yaozh.com/login?ga_source=db&ga_na...  正常  2   PC  register   \n3                                                   NaN  正常  2  app       NaN   \n4                                                   NaN  正常  2   PC  register   \n...                                                 ...  .. ..  ...       ...   \n4878                                                NaN  正常  2  app       NaN   \n4879                                                NaN  正常  2  app       NaN   \n4880                                                NaN  正常  2  app       NaN   \n4881                                                NaN  正常  2  app       NaN   \n4882                                                NaN  正常  2  app       NaN   \n\n             注册来源url_source 注册来源_first_dir 注册的前一页url_first_dir real_source_dir  \n0     https://bbs.yaozh.cn/       instruct                   /        instruct  \n1                       NaN            app                 app             app  \n2     https://bbs.yaozh.cn/              /            turnpage        turnpage  \n3                       NaN            app                 app             app  \n4     https://bbs.yaozh.cn/            vip                 app             vip  \n...                     ...            ...                 ...             ...  \n4878                    NaN            app                 app             app  \n4879                    NaN            app                 app             app  \n4880                    NaN            app                 app             app  \n4881                    NaN            app                 app             app  \n4882                    NaN            app                 app             app  \n\n[4883 rows x 21 columns]",
      "text/html": "<div>\n<style scoped>\n    .dataframe tbody tr th:only-of-type {\n        vertical-align: middle;\n    }\n\n    .dataframe tbody tr th {\n        vertical-align: top;\n    }\n\n    .dataframe thead th {\n        text-align: right;\n    }\n</style>\n<table border=\"1\" class=\"dataframe\">\n  <thead>\n    <tr style=\"text-align: right;\">\n      <th></th>\n      <th>ID</th>\n      <th>用户名</th>\n      <th>邮箱</th>\n      <th>手机</th>\n      <th>手机验证</th>\n      <th>邮箱验证</th>\n      <th>身份验证</th>\n      <th>qq</th>\n      <th>地区</th>\n      <th>注册时间</th>\n      <th>...</th>\n      <th>注册来源url</th>\n      <th>注册的前一页url</th>\n      <th>状态</th>\n      <th>月</th>\n      <th>端</th>\n      <th>firt_dir</th>\n      <th>注册来源url_source</th>\n      <th>注册来源_first_dir</th>\n      <th>注册的前一页url_first_dir</th>\n      <th>real_source_dir</th>\n    </tr>\n  </thead>\n  <tbody>\n    <tr>\n      <th>0</th>\n      <td>1346465</td>\n      <td>feego007</td>\n      <td>NaN</td>\n      <td>18033327100</td>\n      <td>已验证</td>\n      <td>未验证</td>\n      <td>未验证</td>\n      <td>NaN</td>\n      <td>NaN</td>\n      <td>2023-02-23 09:47:42</td>\n      <td>...</td>\n      <td>http://www.yaozh.com/register?back_url=instruct</td>\n      <td>https://db.yaozh.com/instruct?comprehensivesea...</td>\n      <td>正常</td>\n      <td>2</td>\n      <td>PC</td>\n      <td>register</td>\n      <td>https://bbs.yaozh.cn/</td>\n      <td>instruct</td>\n      <td>/</td>\n      <td>instruct</td>\n    </tr>\n    <tr>\n      <th>1</th>\n      <td>1346464</td>\n      <td>18987110848ph414</td>\n      <td>NaN</td>\n      <td>18987110848</td>\n      <td>已验证</td>\n      <td>未验证</td>\n      <td>未验证</td>\n      <td>NaN</td>\n      <td>NaN</td>\n      <td>2023-02-23 09:47:39</td>\n      <td>...</td>\n      <td>NaN</td>\n      <td>NaN</td>\n      <td>正常</td>\n      <td>2</td>\n      <td>app</td>\n      <td>NaN</td>\n      <td>NaN</td>\n      <td>app</td>\n      <td>app</td>\n      <td>app</td>\n    </tr>\n    <tr>\n      <th>2</th>\n      <td>1346463</td>\n      <td>4321qwer</td>\n      <td>NaN</td>\n      <td>18326172406</td>\n      <td>已验证</td>\n      <td>未验证</td>\n      <td>未验证</td>\n      <td>NaN</td>\n      <td>NaN</td>\n      <td>2023-02-23 09:46:55</td>\n      <td>...</td>\n      <td>http://www.yaozh.com/register/</td>\n      <td>https://www.yaozh.com/login?ga_source=db&amp;ga_na...</td>\n      <td>正常</td>\n      <td>2</td>\n      <td>PC</td>\n      <td>register</td>\n      <td>https://bbs.yaozh.cn/</td>\n      <td>/</td>\n      <td>turnpage</td>\n      <td>turnpage</td>\n    </tr>\n    <tr>\n      <th>3</th>\n      <td>1346462</td>\n      <td>13688849103ph150</td>\n      <td>NaN</td>\n      <td>13688849103</td>\n      <td>已验证</td>\n      <td>未验证</td>\n      <td>未验证</td>\n      <td>NaN</td>\n      <td>NaN</td>\n      <td>2023-02-23 09:45:01</td>\n      <td>...</td>\n      <td>NaN</td>\n      <td>NaN</td>\n      <td>正常</td>\n      <td>2</td>\n      <td>app</td>\n      <td>NaN</td>\n      <td>NaN</td>\n      <td>app</td>\n      <td>app</td>\n      <td>app</td>\n    </tr>\n    <tr>\n      <th>4</th>\n      <td>1346461</td>\n      <td>是我滴大可爱</td>\n      <td>NaN</td>\n      <td>18811617836</td>\n      <td>已验证</td>\n      <td>未验证</td>\n      <td>未验证</td>\n      <td>NaN</td>\n      <td>NaN</td>\n      <td>2023-02-23 09:44:34</td>\n      <td>...</td>\n      <td>http://www.yaozh.com/register?ga_source=vip&amp;ga...</td>\n      <td>NaN</td>\n      <td>正常</td>\n      <td>2</td>\n      <td>PC</td>\n      <td>register</td>\n      <td>https://bbs.yaozh.cn/</td>\n      <td>vip</td>\n      <td>app</td>\n      <td>vip</td>\n    </tr>\n    <tr>\n      <th>...</th>\n      <td>...</td>\n      <td>...</td>\n      <td>...</td>\n      <td>...</td>\n      <td>...</td>\n      <td>...</td>\n      <td>...</td>\n      <td>...</td>\n      <td>...</td>\n      <td>...</td>\n      <td>...</td>\n      <td>...</td>\n      <td>...</td>\n      <td>...</td>\n      <td>...</td>\n      <td>...</td>\n      <td>...</td>\n      <td>...</td>\n      <td>...</td>\n      <td>...</td>\n      <td>...</td>\n    </tr>\n    <tr>\n      <th>4878</th>\n      <td>1341587</td>\n      <td>Bamboo_king_</td>\n      <td>NaN</td>\n      <td>18930837936</td>\n      <td>已验证</td>\n      <td>未验证</td>\n      <td>未验证</td>\n      <td>NaN</td>\n      <td>NaN</td>\n      <td>2023-02-13 01:29:24</td>\n      <td>...</td>\n      <td>NaN</td>\n      <td>NaN</td>\n      <td>正常</td>\n      <td>2</td>\n      <td>app</td>\n      <td>NaN</td>\n      <td>NaN</td>\n      <td>app</td>\n      <td>app</td>\n      <td>app</td>\n    </tr>\n    <tr>\n      <th>4879</th>\n      <td>1341586</td>\n      <td>li18708513597</td>\n      <td>NaN</td>\n      <td>18708513597</td>\n      <td>已验证</td>\n      <td>未验证</td>\n      <td>未验证</td>\n      <td>NaN</td>\n      <td>NaN</td>\n      <td>2023-02-13 01:17:56</td>\n      <td>...</td>\n      <td>NaN</td>\n      <td>NaN</td>\n      <td>正常</td>\n      <td>2</td>\n      <td>app</td>\n      <td>NaN</td>\n      <td>NaN</td>\n      <td>app</td>\n      <td>app</td>\n      <td>app</td>\n    </tr>\n    <tr>\n      <th>4880</th>\n      <td>1341585</td>\n      <td>18907839864ph967</td>\n      <td>NaN</td>\n      <td>18907839864</td>\n      <td>已验证</td>\n      <td>未验证</td>\n      <td>未验证</td>\n      <td>NaN</td>\n      <td>NaN</td>\n      <td>2023-02-13 00:43:02</td>\n      <td>...</td>\n      <td>NaN</td>\n      <td>NaN</td>\n      <td>正常</td>\n      <td>2</td>\n      <td>app</td>\n      <td>NaN</td>\n      <td>NaN</td>\n      <td>app</td>\n      <td>app</td>\n      <td>app</td>\n    </tr>\n    <tr>\n      <th>4881</th>\n      <td>1341584</td>\n      <td>18975513213ph513</td>\n      <td>NaN</td>\n      <td>18975513213</td>\n      <td>已验证</td>\n      <td>未验证</td>\n      <td>未验证</td>\n      <td>NaN</td>\n      <td>NaN</td>\n      <td>2023-02-13 00:27:39</td>\n      <td>...</td>\n      <td>NaN</td>\n      <td>NaN</td>\n      <td>正常</td>\n      <td>2</td>\n      <td>app</td>\n      <td>NaN</td>\n      <td>NaN</td>\n      <td>app</td>\n      <td>app</td>\n      <td>app</td>\n    </tr>\n    <tr>\n      <th>4882</th>\n      <td>1341583</td>\n      <td>15808226559ph328</td>\n      <td>NaN</td>\n      <td>15808226559</td>\n      <td>已验证</td>\n      <td>未验证</td>\n      <td>未验证</td>\n      <td>NaN</td>\n      <td>NaN</td>\n      <td>2023-02-13 00:12:47</td>\n      <td>...</td>\n      <td>NaN</td>\n      <td>NaN</td>\n      <td>正常</td>\n      <td>2</td>\n      <td>app</td>\n      <td>NaN</td>\n      <td>NaN</td>\n      <td>app</td>\n      <td>app</td>\n      <td>app</td>\n    </tr>\n  </tbody>\n</table>\n<p>4883 rows × 21 columns</p>\n</div>"
     },
     "execution_count": 100,
     "metadata": {},
     "output_type": "execute_result"
    }
   ],
   "source": [
    "reg_df"
   ],
   "metadata": {
    "collapsed": false
   }
  },
  {
   "cell_type": "code",
   "execution_count": 101,
   "outputs": [
    {
     "data": {
      "text/plain": "Index(['ID', '用户名', '邮箱', '手机', '手机验证', '邮箱验证', '身份验证', 'qq', '地区', '注册时间',\n       '上次登录时间', '注册来源url', '注册的前一页url', '状态', '月', '端', 'firt_dir',\n       '注册来源url_source', '注册来源_first_dir', '注册的前一页url_first_dir',\n       'real_source_dir'],\n      dtype='object')"
     },
     "execution_count": 101,
     "metadata": {},
     "output_type": "execute_result"
    }
   ],
   "source": [
    "reg_df.columns"
   ],
   "metadata": {
    "collapsed": false
   }
  },
  {
   "cell_type": "code",
   "execution_count": null,
   "outputs": [],
   "source": [],
   "metadata": {
    "collapsed": false
   }
  }
 ],
 "metadata": {
  "kernelspec": {
   "display_name": "Python 3",
   "language": "python",
   "name": "python3"
  },
  "language_info": {
   "codemirror_mode": {
    "name": "ipython",
    "version": 2
   },
   "file_extension": ".py",
   "mimetype": "text/x-python",
   "name": "python",
   "nbconvert_exporter": "python",
   "pygments_lexer": "ipython2",
   "version": "2.7.6"
  }
 },
 "nbformat": 4,
 "nbformat_minor": 0
}
