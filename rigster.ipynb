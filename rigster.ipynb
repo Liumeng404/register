{
 "cells": [
  {
   "cell_type": "code",
   "execution_count": null,
   "metadata": {
    "collapsed": true
   },
   "outputs": [],
   "source": [
    "import numpy as np\n",
    "import pandas as pd"
   ]
  },
  {
   "cell_type": "code",
   "execution_count": null,
   "outputs": [],
   "source": [
    "from furl import furl"
   ],
   "metadata": {
    "collapsed": false
   }
  },
  {
   "cell_type": "code",
   "execution_count": null,
   "outputs": [],
   "source": [
    "reg_df = pd.read_excel('2-13.xlsx')"
   ],
   "metadata": {
    "collapsed": false
   }
  },
  {
   "cell_type": "code",
   "execution_count": null,
   "outputs": [],
   "source": [
    "reg_df"
   ],
   "metadata": {
    "collapsed": false
   }
  },
  {
   "cell_type": "code",
   "execution_count": null,
   "outputs": [],
   "source": [
    "reg_df.dtypes"
   ],
   "metadata": {
    "collapsed": false
   }
  },
  {
   "cell_type": "code",
   "execution_count": null,
   "outputs": [],
   "source": [
    "reg_df['注册时间'] = pd.to_datetime(reg_df['注册时间'])  #设置时间"
   ],
   "metadata": {
    "collapsed": false
   }
  },
  {
   "cell_type": "code",
   "execution_count": null,
   "outputs": [],
   "source": [
    "reg_df.dtypes"
   ],
   "metadata": {
    "collapsed": false
   }
  },
  {
   "cell_type": "code",
   "execution_count": null,
   "outputs": [],
   "source": [
    "reg_df['月'] = reg_df['注册时间'].dt.month # 分离出月"
   ],
   "metadata": {
    "collapsed": false
   }
  },
  {
   "cell_type": "code",
   "execution_count": null,
   "outputs": [],
   "source": [
    "def what_port(row):\n",
    "    '''\n",
    "    区分是哪个端来的\n",
    "    :param row:\n",
    "    :return:\n",
    "    '''\n",
    "    if pd.isna(row['注册来源url']) and pd.isna(row['注册的前一页url']):\n",
    "        return 'app'\n",
    "    else:\n",
    "        return 'PC'"
   ],
   "metadata": {
    "collapsed": false
   }
  },
  {
   "cell_type": "code",
   "execution_count": null,
   "outputs": [],
   "source": [
    "reg_df['端'] = reg_df.apply(what_port,axis=1)"
   ],
   "metadata": {
    "collapsed": false
   }
  },
  {
   "cell_type": "code",
   "execution_count": null,
   "outputs": [],
   "source": [
    "port_ana = reg_df[['月','端']].groupby('月').value_counts()"
   ],
   "metadata": {
    "collapsed": false
   }
  },
  {
   "cell_type": "code",
   "execution_count": null,
   "outputs": [],
   "source": [
    "def no_name(url):\n",
    "    '''\n",
    "    判断是否是域来的,如果是，再对url进行解析，不是就返回host\n",
    "    :param url:\n",
    "    :return:\n",
    "    '''\n",
    "    f_obj = furl(url)\n",
    "    if f_obj.host == 'db.yaozh.com':\n",
    "        return f_obj.path.segments[0]\n",
    "    return f_obj.host"
   ],
   "metadata": {
    "collapsed": false
   }
  },
  {
   "cell_type": "code",
   "execution_count": null,
   "outputs": [],
   "source": [
    "def get_par(url):\n",
    "    '''\n",
    "    解析url,获取来源\n",
    "    :param url:\n",
    "    :return:\n",
    "    '''\n",
    "    if url is np.NaN:\n",
    "        return 'app'\n",
    "\n",
    "    url_params_dict =  furl(url).query.params\n",
    "    source = url_params_dict.get('ga_name',url_params_dict.get('backurl', url_params_dict.get('back_url', url_params_dict.get('ga_source','/'))))\n",
    "    if source is not None and \"http\" in source:\n",
    "        return no_name(source)\n",
    "    else:\n",
    "        return source"
   ],
   "metadata": {
    "collapsed": false
   }
  },
  {
   "cell_type": "code",
   "execution_count": null,
   "outputs": [],
   "source": [
    "def real_source(row):\n",
    "    '''\n",
    "    两个来源的综合判断\n",
    "    :param row:\n",
    "    :return:\n",
    "    '''\n",
    "    if row['注册来源_first_dir'] != 'app':\n",
    "        if row['注册来源_first_dir'] == '/' and row['注册的前一页url_first_dir'] == '/':\n",
    "            return '/'\n",
    "        elif row['注册来源_first_dir'] != '/' and row['注册的前一页url_first_dir'] == '/':\n",
    "            return row['注册来源_first_dir']\n",
    "        elif row['注册来源_first_dir'] == '/' and row['注册的前一页url_first_dir'] != '/':\n",
    "            return row['注册的前一页url_first_dir']\n",
    "        else:\n",
    "            return row['注册来源_first_dir']\n",
    "    return 'app'"
   ],
   "metadata": {
    "collapsed": false
   }
  },
  {
   "cell_type": "code",
   "execution_count": null,
   "outputs": [],
   "source": [
    "import numpy as np"
   ],
   "metadata": {
    "collapsed": false
   }
  },
  {
   "cell_type": "code",
   "execution_count": null,
   "outputs": [],
   "source": [
    "reg_df['注册来源_first_dir'] = reg_df['注册来源url'].apply(get_par)"
   ],
   "metadata": {
    "collapsed": false
   }
  },
  {
   "cell_type": "code",
   "execution_count": null,
   "outputs": [],
   "source": [
    "reg_df['注册的前一页url_first_dir'] = reg_df['注册的前一页url'].apply(get_par)"
   ],
   "metadata": {
    "collapsed": false
   }
  },
  {
   "cell_type": "code",
   "execution_count": null,
   "outputs": [],
   "source": [
    "reg_df[['注册来源url','注册来源_first_dir','注册的前一页url','注册的前一页url_first_dir']]"
   ],
   "metadata": {
    "collapsed": false
   }
  },
  {
   "cell_type": "code",
   "execution_count": null,
   "outputs": [],
   "source": [
    "reg_df['real_source_dir'] = reg_df.apply(real_source, axis=1)"
   ],
   "metadata": {
    "collapsed": false
   }
  }
 ],
 "metadata": {
  "kernelspec": {
   "display_name": "Python 3",
   "language": "python",
   "name": "python3"
  },
  "language_info": {
   "codemirror_mode": {
    "name": "ipython",
    "version": 2
   },
   "file_extension": ".py",
   "mimetype": "text/x-python",
   "name": "python",
   "nbconvert_exporter": "python",
   "pygments_lexer": "ipython2",
   "version": "2.7.6"
  }
 },
 "nbformat": 4,
 "nbformat_minor": 0
}
